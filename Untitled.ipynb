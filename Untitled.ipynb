{
 "cells": [
  {
   "cell_type": "code",
   "execution_count": 11,
   "metadata": {
    "collapsed": false
   },
   "outputs": [
    {
     "data": {
      "text/plain": [
       "[<matplotlib.lines.Line2D at 0xa5e7fd0>]"
      ]
     },
     "execution_count": 11,
     "metadata": {},
     "output_type": "execute_result"
    },
    {
     "data": {
      "image/png": "[encoded data removed]",
      "text/plain": [
       "<matplotlib.figure.Figure at 0xa628438>"
      ]
     },
     "metadata": {},
     "output_type": "display_data"
    },
    {
     "data": {
      "image/png": "[encoded data removed]",
      "text/plain": [
       "<matplotlib.figure.Figure at 0xa613438>"
      ]
     },
     "metadata": {},
     "output_type": "display_data"
    }
   ],
   "source": [
    "%matplotlib inline\n",
    "\n",
    "import numpy\n",
    "import os\n",
    "import matplotlib.pyplot as plt\n",
    "import pandas as pd\n",
    "from scipy import stats\n",
    "from scipy.stats import beta\n",
    "import matplotlib.pyplot as plt\n",
    "from numpy import linspace\n",
    "\n",
    "fig, ax = plt.subplots(1, 1)\n",
    "fig, ax0 = plt.subplots(1, 1)\n",
    "\n",
    "a, b = 2.30984964515, 0.62687954301\n",
    "mean, var, skew, kurt = beta.stats(a, b, moments='mvsk')\n",
    "\n",
    "x = linspace(beta.ppf( 0.01,a, b),\n",
    "               beta.ppf(0.99, a, b), 100)\n",
    "ax.plot(x, beta.pdf(x, a, b),\n",
    "          'r-', lw=5, alpha=0.6, label='beta pdf')\n",
    "ax0.plot(x, beta.cdf(x, a, b),\n",
    "          'b-', lw=5, alpha=0.6, label='beta cdf')"
   ]
  },
  {
   "cell_type": "markdown",
   "metadata": {},
   "source": [
    "#### 2.2\n",
    "\n",
    "$f(x) = \\frac{x^{\\beta - 1} (1-x)^{\\alpha - 1}}{B(\\beta,\\alpha)}$  para  $ 0 < x < 1 $\n",
    "\n",
    "0                                                                     para x $\\geq$ 1"
   ]
  },
  {
   "cell_type": "markdown",
   "metadata": {},
   "source": [
    "### 2.3\n",
    "\n",
    "#### Parâmetros de forma $\\beta$ e $\\alpha$"
   ]
  },
  {
   "cell_type": "markdown",
   "metadata": {},
   "source": [
    "#### 2.4 \n",
    "$$Média = \\mu = \\frac{\\beta}{\\beta + \\alpha}$$\n",
    "\n",
    "$$Variância = \\sigma^2 = \\frac{\\beta\\alpha}{(\\beta + \\alpha)^2(\\beta + \\alpha + 1)} $$"
   ]
  },
  {
   "cell_type": "markdown",
   "metadata": {},
   "source": [
    "#### 2.5   \n",
    "#### Modelam os tempos de conclusão de atividades em redes de planejamento. Devido a sua flexibilidade, são muito utilizadas quando não se dispõe de dados reais coletados"
   ]
  },
  {
   "cell_type": "markdown",
   "metadata": {},
   "source": [
    "#### 2.6\n",
    "#### Sim. Apesar de, na maioria das vezes a distribuição $\\beta$ ser usada quando não se dispõe de dados reais, ela pode ser usada com o uso de evidências fornecidas por uma amostra,  de modo que se torne uma inferência estatística."
   ]
  }
 ],
 "metadata": {
  "kernelspec": {
   "display_name": "Python 3",
   "language": "python",
   "name": "python3"
  },
  "language_info": {
   "codemirror_mode": {
    "name": "ipython",
    "version": 3
   },
   "file_extension": ".py",
   "mimetype": "text/x-python",
   "name": "python",
   "nbconvert_exporter": "python",
   "pygments_lexer": "ipython3",
   "version": "3.4.3"
  }
 },
 "nbformat": 4,
 "nbformat_minor": 0
}
